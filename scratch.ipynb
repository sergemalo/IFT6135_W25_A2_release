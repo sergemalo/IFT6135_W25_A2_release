{
 "cells": [
  {
   "cell_type": "code",
   "execution_count": null,
   "metadata": {},
   "outputs": [],
   "source": [
    "%load_ext autoreload\n",
    "%autoreload 2 "
   ]
  },
  {
   "cell_type": "code",
   "execution_count": 10,
   "metadata": {},
   "outputs": [
    {
     "name": "stdout",
     "output_type": "stream",
     "text": [
      "tensor([[0., 0., 0.],\n",
      "        [0., 0., 0.]])\n",
      "cpu\n",
      "tensor([[1., 1., 1.],\n",
      "        [1., 1., 1.]])\n",
      "cpu\n"
     ]
    }
   ],
   "source": [
    "import torch\n",
    "\n",
    "\n",
    "c = torch.zeros(2,3)\n",
    "print(c)\n",
    "print(c.device)\n",
    "d = torch.ones(2,3).to(c.device)\n",
    "print(d)\n",
    "#d.to(c.device)\n",
    "print(d.device)\n",
    "\n",
    "\n"
   ]
  },
  {
   "cell_type": "code",
   "execution_count": null,
   "metadata": {},
   "outputs": [],
   "source": [
    "# Extract x_t from \"output\" tensor, and compute h_t, c_t using the LSTM \"cell\" based on x_t, h_t, and c_t\n",
    "\n",
    "\n",
    "h_t, c_t = self.layers.forward(x_t, (h_t, c_t))"
   ]
  },
  {
   "cell_type": "code",
   "execution_count": null,
   "metadata": {},
   "outputs": [],
   "source": [
    "c = self.embedding(x)\n",
    "output_seq = self.lstm(c, hidden_states)\n",
    "logits = self.classifier(output_seq)"
   ]
  }
 ],
 "metadata": {
  "kernelspec": {
   "display_name": "venv-ift6136-hw2",
   "language": "python",
   "name": "python3"
  },
  "language_info": {
   "codemirror_mode": {
    "name": "ipython",
    "version": 3
   },
   "file_extension": ".py",
   "mimetype": "text/x-python",
   "name": "python",
   "nbconvert_exporter": "python",
   "pygments_lexer": "ipython3",
   "version": "3.11.9"
  }
 },
 "nbformat": 4,
 "nbformat_minor": 2
}
